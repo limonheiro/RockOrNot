{
 "cells": [
  {
   "cell_type": "code",
   "execution_count": null,
   "metadata": {},
   "outputs": [],
   "source": [
    "import audio_metadata"
   ]
  },
  {
   "cell_type": "code",
   "execution_count": null,
   "metadata": {},
   "outputs": [],
   "source": [
    "meta = audio_metadata.load('fma_small//fma_small//000//000002.mp3')"
   ]
  },
  {
   "cell_type": "code",
   "execution_count": null,
   "metadata": {},
   "outputs": [],
   "source": [
    "meta['tags']['genre'][0]"
   ]
  },
  {
   "cell_type": "code",
   "execution_count": null,
   "metadata": {},
   "outputs": [],
   "source": [
    "meta1 = audio_metadata.load('fma_small//fma_small//000//000010.mp3')"
   ]
  },
  {
   "cell_type": "code",
   "execution_count": null,
   "metadata": {},
   "outputs": [],
   "source": [
    "meta1['tags']['genre'][0]"
   ]
  },
  {
   "cell_type": "markdown",
   "metadata": {},
   "source": [
    "# Tratando os Dados"
   ]
  },
  {
   "cell_type": "code",
   "execution_count": 1,
   "metadata": {},
   "outputs": [],
   "source": [
    "import os, shutil, re\n",
    "import audio_metadata\n",
    "data_path = 'fma_small//fma_small//'\n",
    "data_dir_list= os.listdir(data_path)"
   ]
  },
  {
   "cell_type": "code",
   "execution_count": 2,
   "metadata": {},
   "outputs": [],
   "source": [
    "del data_dir_list[-2:]"
   ]
  },
  {
   "cell_type": "code",
   "execution_count": 3,
   "metadata": {
    "scrolled": true
   },
   "outputs": [],
   "source": [
    "def data_dir_config(data,data_path):\n",
    "        files = os.listdir(data_path + data)\n",
    "        for file in files:\n",
    "            try:\n",
    "                meta = audio_metadata.load(data_path + data +'//' +file)\n",
    "                try:\n",
    "                    dirNames = meta['tags']['genre'][0]\n",
    "                    listDirName=re.split(r'[(; )|/|\\\\]',dirNames)\n",
    "                    for dirName in listDirName:\n",
    "                        try:\n",
    "                            if 'Rock' in dirName:\n",
    "                                shutil.copy2(data_path + data +'//' +file,'Rock')\n",
    "                            else:\n",
    "                                shutil.copy2(data_path + data +'//' +file,'Not Rock')\n",
    "                        except FileNotFoundError:\n",
    "                            continue\n",
    "                        except NotADirectoryError:\n",
    "                            continue\n",
    "                        except OSError:\n",
    "                            continue\n",
    "                except KeyError:\n",
    "                    continue\n",
    "            except ZeroDivisionError:\n",
    "                continue"
   ]
  },
  {
   "cell_type": "code",
   "execution_count": 11,
   "metadata": {},
   "outputs": [],
   "source": [
    "\n",
    "if not os.path.exists('Rock'):\n",
    "    os.mkdir('Rock')\n",
    "if not os.path.exists('Not Rock'):\n",
    "    os.mkdir('Not Rock')"
   ]
  },
  {
   "cell_type": "code",
   "execution_count": 12,
   "metadata": {},
   "outputs": [],
   "source": [
    "for data in data_dir_list:\n",
    "    data_dir_config(data,data_path)"
   ]
  },
  {
   "cell_type": "code",
   "execution_count": null,
   "metadata": {},
   "outputs": [],
   "source": []
  }
 ],
 "metadata": {
  "kernelspec": {
   "display_name": "Python 3",
   "language": "python",
   "name": "python3"
  },
  "language_info": {
   "codemirror_mode": {
    "name": "ipython",
    "version": 3
   },
   "file_extension": ".py",
   "mimetype": "text/x-python",
   "name": "python",
   "nbconvert_exporter": "python",
   "pygments_lexer": "ipython3",
   "version": "3.7.3"
  }
 },
 "nbformat": 4,
 "nbformat_minor": 2
}
